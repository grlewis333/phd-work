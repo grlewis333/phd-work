{
 "cells": [
  {
   "cell_type": "code",
   "execution_count": 1,
   "metadata": {},
   "outputs": [],
   "source": [
    "from matplotlib import pyplot as plt\n",
    "import numpy as np\n",
    "from os import walk\n",
    "from PIL import Image\n",
    "import tifffile"
   ]
  },
  {
   "cell_type": "code",
   "execution_count": 28,
   "metadata": {},
   "outputs": [
    {
     "data": {
      "text/plain": [
       "10.40920344696717"
      ]
     },
     "execution_count": 28,
     "metadata": {},
     "output_type": "execute_result"
    },
    {
     "data": {
      "image/png": "[encoded data removed]",
      "text/plain": [
       "<Figure size 432x288 with 2 Axes>"
      ]
     },
     "metadata": {
      "needs_background": "light"
     },
     "output_type": "display_data"
    }
   ],
   "source": [
    "folder = r'C:\\Users\\grl31\\OneDrive - University Of Cambridge\\Cambridge\\PhD\\CS optics\\Noise data\\2021-05-04 Noise tests\\\\'\n",
    "#file = r'EMCCD-0-01_  01.tif'\n",
    "file = r'EMCCD-10-0_  01.tif'\n",
    "# fpath = folder + file\n",
    "# fpath = r'C:\\Users\\grl31\\Dropbox (Cambridge University)\\INT CS\\Noise tests\\PIXIS test  3.tif'\n",
    "\n",
    "#topfolder = r'C:\\Users\\grl31\\Dropbox (Cambridge University)\\INT CS\\Noise tests\\QI Click\\\\'\n",
    "topfolder = r'C:\\Users\\grl31\\Dropbox (Cambridge University)\\INT CS\\Noise tests\\Chameleon 5\\\\'\n",
    "#subfolders = [r'10 ms\\\\', r'100 ms\\\\', r'1 s\\\\', r'10 s\\\\']\n",
    "subfolders = [r'5s 0 db\\\\', '10 db 500 ms\\\\']\n",
    "folder = topfolder+subfolders[0]\n",
    "_, _, filenames = next(walk(folder))\n",
    "fpath = folder + filenames[5]\n",
    "\n",
    "#im = plt.imread(fpath)\n",
    "im = np.array(Image.open(fpath).convert('L'))\n",
    "#im = tifffile.imread(fpath)[:,:,0]\n",
    "\n",
    "plt.imshow(im)\n",
    "plt.colorbar()\n",
    "\n",
    "calculate_bit_depth(fpath,thresh=0.1,bit=12)"
   ]
  },
  {
   "cell_type": "code",
   "execution_count": 13,
   "metadata": {},
   "outputs": [
    {
     "data": {
      "image/png": "[encoded data removed]",
      "text/plain": [
       "<Figure size 432x288 with 1 Axes>"
      ]
     },
     "metadata": {
      "needs_background": "light"
     },
     "output_type": "display_data"
    }
   ],
   "source": [
    "# plot histogram of image\n",
    "s = np.shape(im)\n",
    "imflat = np.reshape(im,(s[0]*s[1]))\n",
    "plt.hist(imflat,bins=50)\n",
    "plt.show()"
   ]
  },
  {
   "cell_type": "code",
   "execution_count": 14,
   "metadata": {},
   "outputs": [
    {
     "data": {
      "image/png": "[encoded data removed]",
      "text/plain": [
       "<Figure size 432x288 with 1 Axes>"
      ]
     },
     "metadata": {
      "needs_background": "light"
     },
     "output_type": "display_data"
    },
    {
     "data": {
      "text/plain": [
       "15"
      ]
     },
     "execution_count": 14,
     "metadata": {},
     "output_type": "execute_result"
    }
   ],
   "source": [
    "# plot thresholded histogram\n",
    "t = 0.1\n",
    "im_ord = np.sort(imflat)\n",
    "i_10pc = int(s[0]*s[1]*t)\n",
    "im_thresh = im_ord[i_10pc:-i_10pc]\n",
    "plt.hist(im_thresh,bins=50)\n",
    "plt.show()\n",
    "#calculate_bit_depth(imflat,thresh=0.1)\n",
    "np.min(im_thresh)"
   ]
  },
  {
   "cell_type": "code",
   "execution_count": 15,
   "metadata": {},
   "outputs": [
    {
     "data": {
      "text/plain": [
       "11.99450934283264"
      ]
     },
     "execution_count": 15,
     "metadata": {},
     "output_type": "execute_result"
    }
   ],
   "source": [
    "# calculate effective bit depth\n",
    "bit = 12\n",
    "imflat=im_thresh\n",
    "mean = np.mean(imflat)\n",
    "rnge = np.max(imflat) - np.min(imflat)\n",
    "ebd = np.log2((2**bit-mean)/rnge)\n",
    "ebd"
   ]
  },
  {
   "cell_type": "code",
   "execution_count": 16,
   "metadata": {},
   "outputs": [],
   "source": [
    "def calculate_bit_depth(fpath,thresh=True,bit=16):\n",
    "    try:\n",
    "        im = plt.imread(fpath)\n",
    "        s = np.shape(im)\n",
    "        imflat = np.reshape(im,(s[0]*s[1]))\n",
    "    except: # for RGB images\n",
    "        im = np.array(Image.open(fpath).convert('L'))\n",
    "        s = np.shape(im)\n",
    "        imflat = np.reshape(im,(s[0]*s[1]))\n",
    "    if thresh != 0:\n",
    "        im_ord = np.sort(imflat)\n",
    "        i_10pc = int(s[0]*s[1]*thresh)\n",
    "        im_thresh = im_ord[i_10pc:-i_10pc]\n",
    "        imflat = im_thresh\n",
    "    mean = np.mean(imflat)\n",
    "    rnge = np.max(imflat) - np.min(imflat)\n",
    "    ebd = np.log2((2**bit-mean)/rnge)\n",
    "    return ebd"
   ]
  },
  {
   "cell_type": "code",
   "execution_count": 100,
   "metadata": {},
   "outputs": [
    {
     "data": {
      "text/plain": [
       "212"
      ]
     },
     "execution_count": 100,
     "metadata": {},
     "output_type": "execute_result"
    }
   ],
   "source": [
    "folder = topfolder+subfolders[1]\n",
    "_, _, filenames = next(walk(folder))\n",
    "fpath = folder+filenames[0]\n",
    "im = Image.open(fpath).convert('L')\n",
    "#im = plt.imread(fpath)\n",
    "\n",
    "#plt.imshow(im)\n",
    "#plt.colorbar()\n",
    "#np.shape(im)\n",
    "#np.max(im)\n",
    "np.max(im)"
   ]
  },
  {
   "cell_type": "code",
   "execution_count": 30,
   "metadata": {},
   "outputs": [],
   "source": [
    "thresh = 0.1"
   ]
  },
  {
   "cell_type": "code",
   "execution_count": 36,
   "metadata": {},
   "outputs": [],
   "source": [
    "# extract EMCCD and PIXIS data from 04/05/2021\n",
    "folder = r'C:\\Users\\grl31\\OneDrive - University Of Cambridge\\Cambridge\\PhD\\CS optics\\Noise data\\2021-05-04 Noise tests\\\\'\n",
    "file = r'EMCCD-0-01_  01.tif'\n",
    "ebds = np.zeros((6,4,10)) # first col is series\n",
    "for i, c in enumerate(['EMCCD','PIXIS','PIXIS2']):\n",
    "    if c == 'PIXIS2':\n",
    "        folder = r'C:\\Users\\grl31\\Dropbox (Cambridge University)\\INT CS\\Noise tests\\Pixis\\\\'\n",
    "    for j, e in enumerate(['0-01','0-1','1-0','10-0']):\n",
    "        for k, n in enumerate(['01','02','03','04','05','06','07','08','09','10']):\n",
    "            file = r'%s-%s_  %s.tif' % (c,e,n)\n",
    "            fpath = folder + file\n",
    "\n",
    "            ebd = calculate_bit_depth(fpath,thresh=thresh)\n",
    "            ebds[i,j,k] = ebd"
   ]
  },
  {
   "cell_type": "code",
   "execution_count": 37,
   "metadata": {},
   "outputs": [
    {
     "name": "stderr",
     "output_type": "stream",
     "text": [
      "<ipython-input-16-3f609323d775>:17: RuntimeWarning: divide by zero encountered in double_scalars\n",
      "  ebd = np.log2((2**bit-mean)/rnge)\n"
     ]
    }
   ],
   "source": [
    "# extract b/w data from 12/05/2021\n",
    "# b/w camera\n",
    "#topfolder = r'C:\\Users\\grl31\\OneDrive - University Of Cambridge\\Cambridge\\PhD\\CS optics\\Noise data\\2021-05-12 Noise tests\\\\'\n",
    "topfolder = r'C:\\Users\\grl31\\Dropbox (Cambridge University)\\INT CS\\Noise tests\\QI Click\\\\'\n",
    "subfolders = [r'10 ms\\\\', r'100 ms\\\\', r'1 s\\\\', r'10 s\\\\']\n",
    "for j,subfolder in enumerate(subfolders):\n",
    "    folder = topfolder+subfolder\n",
    "    _, _, filenames = next(walk(folder))\n",
    "    for k,filename in enumerate(filenames):\n",
    "        fpath = folder + filename\n",
    "        ebd = calculate_bit_depth(fpath,thresh=thresh,bit=12)\n",
    "        ebds[3,j,k] = ebd"
   ]
  },
  {
   "cell_type": "code",
   "execution_count": 38,
   "metadata": {},
   "outputs": [
    {
     "name": "stderr",
     "output_type": "stream",
     "text": [
      "<ipython-input-16-3f609323d775>:17: RuntimeWarning: divide by zero encountered in double_scalars\n",
      "  ebd = np.log2((2**bit-mean)/rnge)\n"
     ]
    }
   ],
   "source": [
    "# extract chameleon data from 12/05/2021\n",
    "#topfolder = r'C:\\Users\\grl31\\Dropbox (Cambridge University)\\INT CS\\Noise tests\\Chameleon 1\\\\'\n",
    "topfolder = r'C:\\Users\\grl31\\Dropbox (Cambridge University)\\INT CS\\Noise tests\\Chameleon 2\\\\' # without gain\n",
    "#topfolder = r'C:\\Users\\grl31\\Dropbox (Cambridge University)\\INT CS\\Noise tests\\Chameleon 4\\\\' # with gain\n",
    "#subfolders = [r'C3 0-01\\\\', r'C3 0-1s\\\\', r'C3 1s\\\\', r'C3 10s\\\\']\n",
    "subfolders = [r'10 ms\\\\', r'100 ms\\\\', r'1 s\\\\', r'10 s\\\\']\n",
    "for j,subfolder in enumerate(subfolders):\n",
    "    folder = topfolder+subfolder\n",
    "    _, _, filenames = next(walk(folder))\n",
    "    for k,filename in enumerate(filenames):\n",
    "        fpath = folder + filename\n",
    "        ebd = calculate_bit_depth(fpath,thresh=thresh,bit=12)\n",
    "        ebds[4,j,k] = ebd"
   ]
  },
  {
   "cell_type": "code",
   "execution_count": 39,
   "metadata": {},
   "outputs": [],
   "source": [
    "# extract chameleon data from 12/05/2021\n",
    "#topfolder = r'C:\\Users\\grl31\\Dropbox (Cambridge University)\\INT CS\\Noise tests\\Chameleon 1\\\\'\n",
    "#topfolder = r'C:\\Users\\grl31\\Dropbox (Cambridge University)\\INT CS\\Noise tests\\Chameleon 2\\\\' # without gain\n",
    "topfolder = r'C:\\Users\\grl31\\Dropbox (Cambridge University)\\INT CS\\Noise tests\\Chameleon 4\\\\' # with gain\n",
    "#subfolders = [r'C3 0-01\\\\', r'C3 0-1s\\\\', r'C3 1s\\\\', r'C3 10s\\\\']\n",
    "subfolders = [r'10 ms\\\\', r'100 ms\\\\', r'1 s\\\\', r'10 s\\\\']\n",
    "for j,subfolder in enumerate(subfolders):\n",
    "    folder = topfolder+subfolder\n",
    "    _, _, filenames = next(walk(folder))\n",
    "    for k,filename in enumerate(filenames):\n",
    "        fpath = folder + filename\n",
    "        ebd = calculate_bit_depth(fpath,thresh=thresh,bit=12)\n",
    "        ebds[5,j,k] = ebd"
   ]
  },
  {
   "cell_type": "code",
   "execution_count": 46,
   "metadata": {},
   "outputs": [
    {
     "data": {
      "text/plain": [
       "Text(0.5, 1.0, 'Threshold top 10% and bottom 10%')"
      ]
     },
     "execution_count": 46,
     "metadata": {},
     "output_type": "execute_result"
    },
    {
     "data": {
      "image/png": "[encoded data removed]",
      "text/plain": [
       "<Figure size 432x288 with 1 Axes>"
      ]
     },
     "metadata": {
      "needs_background": "light"
     },
     "output_type": "display_data"
    }
   ],
   "source": [
    "plt.rcParams.update({'font.size': 14})\n",
    "plt.rcParams.update({'font.family': 'sans-serif'})\n",
    "plt.rcParams.update({'font.sans-serif': 'Arial'})\n",
    "xs = [0.01,0.1,1,10]\n",
    "\n",
    "ys = []\n",
    "errs = []\n",
    "for i in range(4):\n",
    "    data = ebds[4,i,:]\n",
    "    data = data[np.isinf(data)==False]\n",
    "    y = np.mean(data)\n",
    "    err = np.std(data)/len(data)**.5\n",
    "    ys.append(y)\n",
    "    errs.append(err)\n",
    "    \n",
    "ys[0]=12\n",
    "ys[1] = 12\n",
    "ys[2] = 12\n",
    "\n",
    "\n",
    "plt.errorbar(np.log10(xs),ys,yerr=errs,fmt='s--',label='Chameleon 3 (0 db gain)',color='g')\n",
    "\n",
    "ys = []\n",
    "errs = []\n",
    "for i in range(4):\n",
    "    data = ebds[5,i,:]\n",
    "    data = data[np.isinf(data)==False]\n",
    "    y = np.mean(data)\n",
    "    err = np.std(data)/len(data)**.5\n",
    "    ys.append(y)\n",
    "    errs.append(err)\n",
    "\n",
    "\n",
    "plt.errorbar(np.log10(xs),ys,yerr=errs,fmt='s-',label='Chameleon 3 (30 db gain)',color='g')\n",
    "# plt.plot([np.log10(10*1e-3)],[12],'gv')\n",
    "# plt.plot([np.log10(100*1e-3)],[12],'gv')\n",
    "# plt.plot([np.log10(1000*1e-3)],[12],'gv')\n",
    "\n",
    "#plt.plot([np.log10(4),np.log10(10*1e-3)],[5,7], 'g*',label='Chameleon 3 (AG)')\n",
    "\n",
    "\n",
    "ys = []\n",
    "errs = []\n",
    "for i in range(4):\n",
    "    y = np.mean(ebds[0,i,:])\n",
    "    err = np.std(ebds[0,i,:])/10**.5\n",
    "    ys.append(y)\n",
    "    errs.append(err)\n",
    "\n",
    "#plt.errorbar(np.log10(xs),ys,yerr=errs,fmt='o-',label='ProEM ',color='salmon')\n",
    "ys = []\n",
    "errs = []\n",
    "for i in range(4):\n",
    "    y = np.mean(ebds[2,i,:])\n",
    "    err = np.std(ebds[2,i,:])/10**.5\n",
    "    ys.append(y)\n",
    "    errs.append(err)\n",
    "\n",
    "plt.errorbar(np.log10(xs),ys,yerr=errs,fmt='s--',label='PIXIS (Slow readout)',color='dodgerblue')\n",
    "\n",
    "\n",
    "ys = []\n",
    "errs = []\n",
    "for i in range(4):\n",
    "    y = np.mean(ebds[1,i,:])\n",
    "    err = np.std(ebds[1,i,:])/10**.5\n",
    "    ys.append(y)\n",
    "    errs.append(err)\n",
    "\n",
    "plt.errorbar(np.log10(xs),ys,yerr=errs,fmt='s-',label='PIXIS (Fast readout)',color='dodgerblue')\n",
    "\n",
    "\n",
    "\n",
    "ys = []\n",
    "errs = []\n",
    "for i in range(4):\n",
    "    # remove where value is inf\n",
    "    data = ebds[3,i,:]\n",
    "    data = data[np.isinf(data)==False]\n",
    "    y = np.mean(data)\n",
    "    err = np.std(data)/len(data)**.5\n",
    "    ys.append(y)\n",
    "    errs.append(err)\n",
    "    \n",
    "# ys[0]=12\n",
    "# ys[1] = 12\n",
    "\n",
    "#plt.errorbar(np.log10(xs),ys,yerr=errs,fmt='s-',label='QI Click',color='k')\n",
    "# plt.plot([np.log10(10*1e-3)],[12],'k^')\n",
    "# plt.plot([np.log10(100*1e-3)],[12],'k^')\n",
    "\n",
    "\n",
    "\n",
    "#plt.title('10% upper and lower threshold',fontsize = 16)\n",
    "plt.ylabel('Effective Bit Depth',fontsize=16)\n",
    "plt.xlabel('log$_{10}$(Exposure time / s)',fontsize=16)\n",
    "#plt.ylim([9.8,14])\n",
    "plt.legend(loc=(1.05,0.2))\n",
    "#plt.title('No threshold',fontsize=16)\n",
    "#plt.title('Threshold top 1% and bottom 1%',fontsize=16)\n",
    "plt.title('Threshold top 10% and bottom 10%',fontsize=16)"
   ]
  },
  {
   "cell_type": "code",
   "execution_count": 46,
   "metadata": {},
   "outputs": [
    {
     "name": "stdout",
     "output_type": "stream",
     "text": [
      "inf 0.004818625906242839\n",
      "inf 0.0044875026510316305\n",
      "inf nan\n",
      "10.994360091820331 nan\n"
     ]
    }
   ],
   "source": [
    "for i in range(4):\n",
    "    y = np.nanmean(ebds[4,i,:])\n",
    "    err = np.std(ebds[3,i,:])/10**.5\n",
    "    print(y,err)"
   ]
  },
  {
   "cell_type": "code",
   "execution_count": 47,
   "metadata": {},
   "outputs": [
    {
     "data": {
      "text/plain": [
       "array([[[10.10399096, 10.10399154, 10.10404732, 10.10396937,\n",
       "         10.10404876, 10.10404998, 10.10397118, 10.10403407,\n",
       "         10.1039795 , 10.10405865],\n",
       "        [10.10403772, 10.10389409, 10.10385339, 10.10389658,\n",
       "         10.10385615, 10.10389623, 10.12857298, 10.10385835,\n",
       "         10.10383867, 10.12856745],\n",
       "        [10.07963532, 10.10389405, 10.10382719, 10.10386978,\n",
       "         10.10385908, 10.07963923, 10.10393716, 10.10379529,\n",
       "         10.07957246, 10.07955189],\n",
       "        [10.05558122, 10.05551868, 10.07937681, 10.0793515 ,\n",
       "         10.07941276, 10.05558458, 10.07944948, 10.0794831 ,\n",
       "         10.0794175 , 10.05558679]],\n",
       "\n",
       "       [[12.17879984, 12.17880622, 12.17880526, 12.17880227,\n",
       "         12.17880501, 12.17880376, 12.17880655, 12.17880556,\n",
       "         12.17880249, 12.17881172],\n",
       "        [12.17879282, 12.17879572, 12.17879057, 12.17879329,\n",
       "         12.17879685, 12.17879752, 12.17879591, 12.17879762,\n",
       "         12.17879401, 12.07925159],\n",
       "        [12.0792065 , 12.17872798, 12.17873145, 12.07918596,\n",
       "         12.07918574, 12.07918408, 12.17872795, 12.17872619,\n",
       "         12.17871945, 12.17872814],\n",
       "        [12.17864581, 12.17863887, 12.17863557, 12.28554516,\n",
       "         12.1786289 , 12.17863404, 12.17862346, 12.1786269 ,\n",
       "         12.17861865, 12.17862359]],\n",
       "\n",
       "       [[13.66506115, 13.66505734, 13.66506097, 13.66506016,\n",
       "         13.66505903, 13.66505826, 13.66505948, 13.66505631,\n",
       "         13.66505677, 13.66505564],\n",
       "        [13.66505906, 13.66505798, 13.66505888, 13.66505772,\n",
       "         13.66505894, 13.66505639, 13.66505705, 13.66505711,\n",
       "         13.66505562, 13.66505851],\n",
       "        [13.66505971, 13.66505971, 13.66505888, 13.66506025,\n",
       "         13.66506025, 13.66506196, 13.66506107, 13.66506018,\n",
       "         13.66505926, 13.66505926],\n",
       "        [13.98697968, 13.66505613, 13.66505709, 13.66506155,\n",
       "         13.66505988, 13.66506101, 13.66506143, 13.66506282,\n",
       "         13.98699332, 13.98699428]],\n",
       "\n",
       "       [[ 6.46625297,  6.46608898,  6.43499987,  6.46603597,\n",
       "          6.46608611,  6.4349924 ,  6.46606041,  6.43499173,\n",
       "          6.43499955,  6.46607428],\n",
       "        [ 6.434897  ,  6.46587484,  6.43486663,  6.43488537,\n",
       "          6.43491609,  6.43487487,  6.46585383,  6.43490458,\n",
       "          6.46585052,  6.43490669],\n",
       "        [        inf,  6.37403451,  6.37389963,         inf,\n",
       "                 inf,  6.3739287 ,         inf,         inf,\n",
       "                 inf,         inf],\n",
       "        [ 5.58998523,  5.58993902,  5.58985732,  5.58999152,\n",
       "                 inf,  5.57281496,  5.57282227,  5.57266402,\n",
       "          5.57258574,  5.55564102]],\n",
       "\n",
       "       [[        inf,         inf,         inf,         inf,\n",
       "                 inf,         inf,         inf,         inf,\n",
       "                 inf,         inf],\n",
       "        [        inf,         inf,         inf,         inf,\n",
       "                 inf,         inf,         inf,         inf,\n",
       "                 inf,         inf],\n",
       "        [        inf,         inf,         inf,         inf,\n",
       "                 inf,         inf,         inf,         inf,\n",
       "                 inf,         inf],\n",
       "        [10.99440224, 10.99433927, 10.99430236, 10.99430657,\n",
       "         10.99435375, 10.99435882, 10.99436324, 10.99438978,\n",
       "         10.99439267, 10.99439221]]])"
      ]
     },
     "execution_count": 47,
     "metadata": {},
     "output_type": "execute_result"
    }
   ],
   "source": [
    "ebds"
   ]
  },
  {
   "cell_type": "code",
   "execution_count": null,
   "metadata": {},
   "outputs": [],
   "source": []
  }
 ],
 "metadata": {
  "kernelspec": {
   "display_name": "Python 3",
   "language": "python",
   "name": "python3"
  },
  "language_info": {
   "codemirror_mode": {
    "name": "ipython",
    "version": 3
   },
   "file_extension": ".py",
   "mimetype": "text/x-python",
   "name": "python",
   "nbconvert_exporter": "python",
   "pygments_lexer": "ipython3",
   "version": "3.8.5"
  }
 },
 "nbformat": 4,
 "nbformat_minor": 4
}
