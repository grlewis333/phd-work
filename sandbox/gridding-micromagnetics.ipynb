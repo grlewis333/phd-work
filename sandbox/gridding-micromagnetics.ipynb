{
 "cells": [
  {
   "cell_type": "markdown",
   "metadata": {},
   "source": [
    "# Gridding micromagnetic simulations"
   ]
  },
  {
   "cell_type": "code",
   "execution_count": 2,
   "metadata": {},
   "outputs": [],
   "source": [
    "import pandas\n",
    "import numpy as np\n",
    "import scipy.interpolate#\n",
    "from matplotlib import pyplot as plt\n",
    "from mpl_toolkits.mplot3d import Axes3D\n",
    "import copy\n",
    "\n",
    "%matplotlib qt"
   ]
  },
  {
   "cell_type": "markdown",
   "metadata": {},
   "source": [
    "## Data input"
   ]
  },
  {
   "cell_type": "markdown",
   "metadata": {},
   "source": [
    "- Import .dat file with simulated x, y, z, mx, my, mz "
   ]
  },
  {
   "cell_type": "code",
   "execution_count": 3,
   "metadata": {},
   "outputs": [],
   "source": [
    "#folder = r'/home/grl31/Dropbox (Cambridge University)/Linux-Surface share/Magnetic simulations/size_hyst_ring3'\n",
    "folder = r'C:/Users/grl31/Dropbox (Cambridge University)/Linux-Surface share/Magnetic simulations/size_hyst_ring3'\n",
    "fname = 'ring3_down.70nm.dat' # blue\n",
    "#fname = 'ring2_down.60nm.dat' # red\n",
    "#fname = 'ring1_down.80nm.dat' # green\n",
    "fpath = folder + '/' + fname\n",
    "\n",
    "# 'fixed width formatted' works directly with even .dat format\n",
    "data = pandas.read_fwf(fpath, header = None)\n",
    "\n",
    "all_x = np.asarray(data[0])\n",
    "all_y = np.asarray(data[1])\n",
    "all_z = np.asarray(data[2])\n",
    "\n",
    "m_x = np.asarray(data[3])\n",
    "m_y = np.asarray(data[4])\n",
    "m_z = np.asarray(data[5])\n",
    "\n",
    "# format to be in an (n,D) array\n",
    "coor = np.array([all_x,all_y,all_z]).T\n",
    "ms = np.array([m_x,m_y,m_z]).T"
   ]
  },
  {
   "cell_type": "code",
   "execution_count": 5,
   "metadata": {},
   "outputs": [
    {
     "data": {
      "text/plain": [
       "(5273,)"
      ]
     },
     "execution_count": 5,
     "metadata": {},
     "output_type": "execute_result"
    }
   ],
   "source": [
    "np.shape(m_x)"
   ]
  },
  {
   "cell_type": "markdown",
   "metadata": {},
   "source": [
    "- Generate desired grid (note it should be roughly the same coordinate range)"
   ]
  },
  {
   "cell_type": "code",
   "execution_count": 32,
   "metadata": {},
   "outputs": [
    {
     "name": "stdout",
     "output_type": "stream",
     "text": [
      "x: 12.0 15.0 y: 23.0 26.0 z: 0.0 2.0\n"
     ]
    }
   ],
   "source": [
    "# find boundaries of the dataset\n",
    "xi = np.floor(np.min(all_x))\n",
    "xf = np.ceil(np.max(all_x))\n",
    "yi = np.floor(np.min(all_y))\n",
    "yf = np.ceil(np.max(all_y))\n",
    "zi = np.floor(np.min(all_z))\n",
    "zf = np.ceil(np.max(all_z))\n",
    "\n",
    "# mgrid forms a grid by 'indexing' what you want\n",
    "# note that indexing format is start:stop:stepj\n",
    "grid_x, grid_y, grid_z = np.mgrid[xi:xf:100j, yi:yf:100j, zi:zf:100j]\n",
    "coor_grid = np.array([grid_x, grid_y, grid_z]).T\n",
    "\n",
    "print('x:', xi,xf, 'y:', yi,yf, 'z:', zi,zf)"
   ]
  },
  {
   "cell_type": "markdown",
   "metadata": {},
   "source": [
    "- Scale grid to the right size in nm"
   ]
  },
  {
   "cell_type": "code",
   "execution_count": 20,
   "metadata": {},
   "outputs": [
    {
     "name": "stdout",
     "output_type": "stream",
     "text": [
      "x: 0.0 84.0 y: 0.0 84.0 z: 0.0 56.0\n"
     ]
    }
   ],
   "source": [
    "# xsize = (xf - xi) * 1000\n",
    "# ysize = (yf - yi) * 1000\n",
    "# zsize = (zf - zi) * 1000\n",
    "\n",
    "# factor = 70 / 2500 # blue ring 3\n",
    "\n",
    "# grid_x = grid_x - xi\n",
    "# grid_x = grid_x * 1000 * factor\n",
    "\n",
    "# grid_y = grid_y - yi\n",
    "# grid_y = grid_y * 1000 * factor\n",
    "\n",
    "# grid_z = grid_z - zi\n",
    "# grid_z = grid_z * 1000 * factor\n",
    "\n",
    "# xi, xf = np.min(grid_x), np.max(grid_x)\n",
    "# yi, yf = np.min(grid_y), np.max(grid_y)\n",
    "# zi, zf = np.min(grid_z), np.max(grid_z)\n",
    "\n",
    "# print('x:', xi,xf, 'y:', yi,yf, 'z:', zi,zf)\n",
    "# coor_grid = np.array([grid_x, grid_y, grid_z]).T\n",
    "# coor = coor*1000*factor"
   ]
  },
  {
   "cell_type": "markdown",
   "metadata": {},
   "source": [
    "## Interpolate"
   ]
  },
  {
   "cell_type": "code",
   "execution_count": 71,
   "metadata": {},
   "outputs": [],
   "source": [
    "# note that mx, my and mz must be done separately\n",
    "output_x = scipy.interpolate.griddata(coor,m_x,(grid_x,grid_y,grid_z),method='linear',fill_value=0)\n",
    "output_y = scipy.interpolate.griddata(coor,m_y,(grid_x,grid_y,grid_z),method='linear',fill_value=0)\n",
    "output_z = scipy.interpolate.griddata(coor,m_z,(grid_x,grid_y,grid_z),method='linear',fill_value=0)"
   ]
  },
  {
   "cell_type": "code",
   "execution_count": 72,
   "metadata": {},
   "outputs": [
    {
     "data": {
      "text/plain": [
       "((5273, 3), (5273,), (100, 100, 100))"
      ]
     },
     "execution_count": 72,
     "metadata": {},
     "output_type": "execute_result"
    }
   ],
   "source": [
    "coor.shape, m_x.shape, grid_x.shape"
   ]
  },
  {
   "cell_type": "code",
   "execution_count": 77,
   "metadata": {},
   "outputs": [
    {
     "data": {
      "text/plain": [
       "<matplotlib.image.AxesImage at 0x268d590d278>"
      ]
     },
     "execution_count": 77,
     "metadata": {},
     "output_type": "execute_result"
    }
   ],
   "source": [
    "plt.imshow(output_x[:,:,40], cmap = 'RdBu_r')"
   ]
  },
  {
   "cell_type": "markdown",
   "metadata": {},
   "source": [
    "## Mask out hole"
   ]
  },
  {
   "cell_type": "markdown",
   "metadata": {},
   "source": [
    "- For each point in the gridded data, find out how far away it is from one of the original input data points "
   ]
  },
  {
   "cell_type": "code",
   "execution_count": 35,
   "metadata": {},
   "outputs": [],
   "source": [
    "tree = scipy.spatial.cKDTree(coor)\n",
    "d, inds = tree.query(coor_grid, k=1, p=2)"
   ]
  },
  {
   "cell_type": "markdown",
   "metadata": {},
   "source": [
    "- Visually inspect and decide what the threshold distance should be"
   ]
  },
  {
   "cell_type": "code",
   "execution_count": 64,
   "metadata": {},
   "outputs": [
    {
     "data": {
      "text/plain": [
       "(12.0, 15.0, 23.0, 26.0)"
      ]
     },
     "execution_count": 64,
     "metadata": {},
     "output_type": "execute_result"
    }
   ],
   "source": [
    "%matplotlib qt\n",
    "plt.imshow(np.flipud(d[40,:,:]), cmap = 'Blues_r', extent=[xi,xf,yi,yf])\n",
    "plt.axis('off')"
   ]
  },
  {
   "cell_type": "markdown",
   "metadata": {},
   "source": [
    "- create gridded data mask which is 0 for regions above threshold distance and 1 for those within"
   ]
  },
  {
   "cell_type": "code",
   "execution_count": 65,
   "metadata": {},
   "outputs": [
    {
     "data": {
      "text/plain": [
       "(-0.5, 99.5, 99.5, -0.5)"
      ]
     },
     "execution_count": 65,
     "metadata": {},
     "output_type": "execute_result"
    }
   ],
   "source": [
    "threshold = 0.08\n",
    "i_out = d > threshold\n",
    "i_in = d <= threshold\n",
    "mask = copy.copy(d)\n",
    "mask[i_out] = 0\n",
    "mask[i_in] = 1\n",
    "\n",
    "plt.imshow(np.flipud(mask[40,:,:]))\n",
    "plt.axis('off')"
   ]
  },
  {
   "cell_type": "markdown",
   "metadata": {},
   "source": [
    "- apply mask to output data"
   ]
  },
  {
   "cell_type": "code",
   "execution_count": 45,
   "metadata": {},
   "outputs": [],
   "source": [
    "output_x = output_x * mask.T\n",
    "output_y = output_y * mask.T\n",
    "output_z = output_z * mask.T"
   ]
  },
  {
   "cell_type": "markdown",
   "metadata": {},
   "source": [
    "## Visualise"
   ]
  },
  {
   "cell_type": "markdown",
   "metadata": {},
   "source": [
    "- view xy projection and compare to input data for Mx"
   ]
  },
  {
   "cell_type": "code",
   "execution_count": 60,
   "metadata": {},
   "outputs": [
    {
     "data": {
      "text/plain": [
       "(12.0, 15.0, 23.0, 26.0)"
      ]
     },
     "execution_count": 60,
     "metadata": {},
     "output_type": "execute_result"
    }
   ],
   "source": [
    "# Input data\n",
    "plt.scatter(all_x,all_y,color='grey', vmin=-2, vmax= 2,alpha=0.2,marker='.')\n",
    "\n",
    "# Interpolated values\n",
    "mx_proj = np.average(output_x,axis=2)\n",
    "plt.imshow(np.flipud((mx_proj.T**2 + my_proj.T**2)**0.5), cmap='RdBu', vmin=-1.2, vmax=1.2, extent=[xi,xf,yi,yf])\n",
    "plt.axis('off')"
   ]
  },
  {
   "cell_type": "markdown",
   "metadata": {},
   "source": [
    "- view xy projection of magnetisation as a vector"
   ]
  },
  {
   "cell_type": "code",
   "execution_count": 63,
   "metadata": {},
   "outputs": [
    {
     "data": {
      "text/plain": [
       "(12.0, 15.0, 23.0, 26.0)"
      ]
     },
     "execution_count": 63,
     "metadata": {},
     "output_type": "execute_result"
    }
   ],
   "source": [
    "# average over the z axis for gridded coordinates and gridded magnetisations\n",
    "x_proj = np.average(grid_x,axis=2)\n",
    "y_proj = np.average(grid_y,axis=2)\n",
    "\n",
    "mx_proj = np.average(output_x,axis=2)\n",
    "my_proj= np.average(output_y,axis=2)\n",
    "\n",
    "# Plot magnitude of M_proj in the background\n",
    "M_proj = np.hypot(mx_proj,my_proj)\n",
    "plt.imshow(np.flipud(M_proj.T), extent=[xi,xf,yi,yf], cmap ='Blues', vmin=0,vmax=1)\n",
    "\n",
    "# Plot M_proj as vectors\n",
    "s = 5\n",
    "plt.quiver(x_proj[::s,::s], y_proj[::s,::s], mx_proj[::s,::s], my_proj[::s,::s])\n",
    "plt.axis('off')"
   ]
  },
  {
   "cell_type": "markdown",
   "metadata": {},
   "source": [
    "- View 3D plot of gridded magnetisation"
   ]
  },
  {
   "cell_type": "code",
   "execution_count": 142,
   "metadata": {},
   "outputs": [
    {
     "data": {
      "text/plain": [
       "Text(0.5, 0, 'z')"
      ]
     },
     "execution_count": 142,
     "metadata": {},
     "output_type": "execute_result"
    }
   ],
   "source": [
    "fig = plt.figure(figsize=(8,8))\n",
    "ax = fig.gca(projection='3d')\n",
    "s = 5\n",
    "\n",
    "# View gridded data\n",
    "a, b, c, d, e, f = grid_x,grid_y,grid_z,output_x,output_y,output_z\n",
    "ax.quiver(a[::s,::s,::s], b[::s,::s,::s], c[::s,::s,::s], d[::s,::s,::s], e[::s,::s,::s], f[::s,::s,::s],length = .3,alpha=0.5,linewidth=3,color='k')\n",
    "\n",
    "# View original input data\n",
    "# a, b, c, d, e, f = all_x,all_y,all_z,m_x,m_y,m_z\n",
    "# ax.quiver(a[::s], b[::s], c[::s], d[::s], e[::s], f[::s],length = 0.1,alpha=0.5,linewidth=3,color='k')\n",
    "\n",
    "plt.xlabel('x', fontsize=20)\n",
    "plt.ylabel('y', fontsize=20)\n",
    "ax.set_zlabel('z', fontsize=20)"
   ]
  },
  {
   "cell_type": "markdown",
   "metadata": {},
   "source": [
    "## Save gridded data"
   ]
  },
  {
   "cell_type": "code",
   "execution_count": 153,
   "metadata": {},
   "outputs": [
    {
     "data": {
      "text/plain": [
       "(112.0, 84.0, 56.0)"
      ]
     },
     "execution_count": 153,
     "metadata": {},
     "output_type": "execute_result"
    }
   ],
   "source": [
    "xsize = (xf - xi) * 1000\n",
    "ysize = (yf - yi) * 1000\n",
    "zsize = (zf - zi) * 1000\n",
    "factor = 70 / 2500 # blue ring 3\n",
    "xsize*factor, ysize*factor, zsize*factor"
   ]
  },
  {
   "cell_type": "code",
   "execution_count": 141,
   "metadata": {},
   "outputs": [],
   "source": [
    "grid_x = grid_x - xi\n",
    "grid_x = grid_x * 1000 * factor\n",
    "\n",
    "grid_y = grid_y - yi\n",
    "grid_y = grid_y * 1000 * factor\n",
    "\n",
    "grid_z = grid_z - zi\n",
    "grid_z = grid_z * 1000 * factor"
   ]
  },
  {
   "cell_type": "code",
   "execution_count": 65,
   "metadata": {},
   "outputs": [],
   "source": [
    "save_gx = grid_x.reshape(100**3)\n",
    "save_gy = grid_y.reshape(100**3)\n",
    "save_gz = grid_z.reshape(100**3)\n",
    "save_mx = output_x.reshape(100**3)\n",
    "save_my = output_y.reshape(100**3)\n",
    "save_mz = output_z.reshape(100**3)\n",
    "\n",
    "save_data = np.array([save_gx,save_gy,save_gz,save_mx,save_my,save_mz]).T"
   ]
  },
  {
   "cell_type": "code",
   "execution_count": 71,
   "metadata": {},
   "outputs": [],
   "source": [
    "save_folder = r'/home/grl31/Dropbox (Cambridge University)/Linux-Surface share/Magnetic simulations'\n",
    "save_name = r'/gridded_ring3_70nm_blue.csv'\n",
    "save_fpath = save_folder + save_name"
   ]
  },
  {
   "cell_type": "code",
   "execution_count": 59,
   "metadata": {},
   "outputs": [],
   "source": [
    "np.savetxt(save_fpath,save_data)"
   ]
  },
  {
   "cell_type": "code",
   "execution_count": 54,
   "metadata": {},
   "outputs": [
    {
     "data": {
      "text/plain": [
       "(6, 1000000)"
      ]
     },
     "execution_count": 54,
     "metadata": {},
     "output_type": "execute_result"
    }
   ],
   "source": [
    "save_data.shape"
   ]
  },
  {
   "cell_type": "code",
   "execution_count": 58,
   "metadata": {},
   "outputs": [],
   "source": [
    "aaa = np.linspace(0,100,101)\n",
    "bbb = aaa + 100\n",
    "ccc = bbb + 100\n",
    "sss = np.array([aaa,bbb,ccc])\n",
    "save_fpath = save_folder + r'/testsave2.csv'"
   ]
  },
  {
   "cell_type": "code",
   "execution_count": 60,
   "metadata": {},
   "outputs": [
    {
     "ename": "AttributeError",
     "evalue": "module 'pandas' has no attribute 'load_txt'",
     "output_type": "error",
     "traceback": [
      "\u001b[0;31m---------------------------------------------------------------------------\u001b[0m",
      "\u001b[0;31mAttributeError\u001b[0m                            Traceback (most recent call last)",
      "\u001b[0;32m<ipython-input-60-c9f2aa43fdc1>\u001b[0m in \u001b[0;36m<module>\u001b[0;34m\u001b[0m\n\u001b[0;32m----> 1\u001b[0;31m \u001b[0mpandas\u001b[0m\u001b[0;34m.\u001b[0m\u001b[0mload_txt\u001b[0m\u001b[0;34m(\u001b[0m\u001b[0;34m)\u001b[0m\u001b[0;34m\u001b[0m\u001b[0;34m\u001b[0m\u001b[0m\n\u001b[0m",
      "\u001b[0;31mAttributeError\u001b[0m: module 'pandas' has no attribute 'load_txt'"
     ]
    }
   ],
   "source": []
  },
  {
   "cell_type": "code",
   "execution_count": 72,
   "metadata": {},
   "outputs": [],
   "source": [
    "df = pandas.DataFrame(data=save_data)"
   ]
  },
  {
   "cell_type": "code",
   "execution_count": 74,
   "metadata": {},
   "outputs": [],
   "source": [
    "pandas.DataFrame.to_csv(df,save_fpath,index=False,header=False)"
   ]
  },
  {
   "cell_type": "code",
   "execution_count": null,
   "metadata": {},
   "outputs": [],
   "source": []
  }
 ],
 "metadata": {
  "kernelspec": {
   "display_name": "Python 3",
   "language": "python",
   "name": "python3"
  },
  "language_info": {
   "codemirror_mode": {
    "name": "ipython",
    "version": 3
   },
   "file_extension": ".py",
   "mimetype": "text/x-python",
   "name": "python",
   "nbconvert_exporter": "python",
   "pygments_lexer": "ipython3",
   "version": "3.9.2"
  }
 },
 "nbformat": 4,
 "nbformat_minor": 4
}
